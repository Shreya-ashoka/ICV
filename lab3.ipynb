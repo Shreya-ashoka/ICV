{
 "cells": [
  {
   "cell_type": "code",
   "execution_count": 12,
   "id": "5c537078-4b7c-435a-b855-db5837223ff2",
   "metadata": {},
   "outputs": [
    {
     "ename": "error",
     "evalue": "OpenCV(4.10.0) D:\\a\\opencv-python\\opencv-python\\opencv\\modules\\imgproc\\src\\color.cpp:196: error: (-215:Assertion failed) !_src.empty() in function 'cv::cvtColor'\n",
     "output_type": "error",
     "traceback": [
      "\u001b[1;31m---------------------------------------------------------------------------\u001b[0m",
      "\u001b[1;31merror\u001b[0m                                     Traceback (most recent call last)",
      "Cell \u001b[1;32mIn[12], line 9\u001b[0m\n\u001b[0;32m      6\u001b[0m image \u001b[38;5;241m=\u001b[39m cv2\u001b[38;5;241m.\u001b[39mimread(\u001b[38;5;124mr\u001b[39m\u001b[38;5;124m'\u001b[39m\u001b[38;5;124mICV LAB/pen.jpg\u001b[39m\u001b[38;5;124m'\u001b[39m)  \u001b[38;5;66;03m# Use raw string\u001b[39;00m\n\u001b[0;32m      8\u001b[0m \u001b[38;5;66;03m# Convert the image from BGR to RGB (matplotlib expects RGB)\u001b[39;00m\n\u001b[1;32m----> 9\u001b[0m image_rgb \u001b[38;5;241m=\u001b[39m cv2\u001b[38;5;241m.\u001b[39mcvtColor(image, cv2\u001b[38;5;241m.\u001b[39mCOLOR_BGR2RGB)\n\u001b[0;32m     11\u001b[0m \u001b[38;5;66;03m# Function to display images using matplotlib\u001b[39;00m\n\u001b[0;32m     12\u001b[0m \u001b[38;5;28;01mdef\u001b[39;00m \u001b[38;5;21mdisplay_image\u001b[39m(image, title\u001b[38;5;241m=\u001b[39m\u001b[38;5;124m\"\u001b[39m\u001b[38;5;124mImage\u001b[39m\u001b[38;5;124m\"\u001b[39m):\n",
      "\u001b[1;31merror\u001b[0m: OpenCV(4.10.0) D:\\a\\opencv-python\\opencv-python\\opencv\\modules\\imgproc\\src\\color.cpp:196: error: (-215:Assertion failed) !_src.empty() in function 'cv::cvtColor'\n"
     ]
    }
   ],
   "source": [
    "import cv2\n",
    "import numpy as np\n",
    "from matplotlib import pyplot as plt\n",
    "\n",
    "# Load your image\n",
    "image = cv2.imread(r'ICV LAB/pen.jpg')  # Use raw string\n",
    "\n",
    "# Convert the image from BGR to RGB (matplotlib expects RGB)\n",
    "image_rgb = cv2.cvtColor(image, cv2.COLOR_BGR2RGB)\n",
    "\n",
    "# Function to display images using matplotlib\n",
    "def display_image(image, title=\"Image\"):\n",
    "    plt.figure(figsize=(6, 6))\n",
    "    plt.imshow(image)\n",
    "    plt.title(title)\n",
    "    plt.axis('off')\n",
    "    plt.show()\n",
    "\n",
    "# Erosion\n",
    "kernel2 = np.ones((3, 3), np.uint8)\n",
    "image_erode2 = cv2.erode(image_rgb, kernel2)\n",
    "display_image(image_erode2, \"Eroded Image\")\n",
    "\n",
    "# Dilation\n",
    "kernel3 = np.ones((2, 2), np.uint8)\n",
    "image_dilation = cv2.dilate(image_rgb, kernel3, iterations=1)\n",
    "display_image(image_dilation, \"Dilated Image\")\n",
    "\n",
    "# Opening\n",
    "kernel_size = 5\n",
    "kernel = np.ones((kernel_size, kernel_size), dtype=np.uint8)\n",
    "image_opening = cv2.morphologyEx(image_rgb, cv2.MORPH_OPEN, kernel)\n",
    "display_image(image_opening, \"Opened Image\")\n",
    "\n",
    "# Closing\n",
    "image_close = cv2.morphologyEx(image_rgb, cv2.MORPH_CLOSE, kernel)\n",
    "display_image(image_close, \"Closed Image\")\n"
   ]
  },
  {
   "cell_type": "code",
   "execution_count": null,
   "id": "a7d21cef-69eb-4b70-afda-2f2aeeb85111",
   "metadata": {},
   "outputs": [],
   "source": []
  },
  {
   "cell_type": "code",
   "execution_count": null,
   "id": "0edc9ee1-3629-4262-8ca9-2f6e9c6f6350",
   "metadata": {},
   "outputs": [],
   "source": []
  }
 ],
 "metadata": {
  "kernelspec": {
   "display_name": "Python 3 (ipykernel)",
   "language": "python",
   "name": "python3"
  },
  "language_info": {
   "codemirror_mode": {
    "name": "ipython",
    "version": 3
   },
   "file_extension": ".py",
   "mimetype": "text/x-python",
   "name": "python",
   "nbconvert_exporter": "python",
   "pygments_lexer": "ipython3",
   "version": "3.11.7"
  }
 },
 "nbformat": 4,
 "nbformat_minor": 5
}
