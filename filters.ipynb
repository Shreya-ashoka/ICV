{
 "cells": [
  {
   "cell_type": "code",
   "execution_count": 11,
   "id": "462aa13c-6c24-44bc-ba40-649e981f9838",
   "metadata": {},
   "outputs": [],
   "source": [
    "import cv2\n",
    "\n",
    "image_path = 'teddy.png'\n",
    "img = cv2.imread(image_path)\n",
    "\n",
    "if img is not None:\n",
    "    cv2.imshow('Original Image', img)\n",
    "    cv2.waitKey(0)\n",
    "    cv2.destroyAllWindows()\n",
    "\n",
    "    # Filtered Image using filter2D\n",
    "    kernel_25 = cv2.getGaussianKernel(25, 3)\n",
    "    output_kernel = cv2.filter2D(img, -1, kernel_25)\n",
    "    cv2.imshow('Filtered Image - filter2D', output_kernel)\n",
    "    cv2.waitKey(0)\n",
    "    cv2.destroyAllWindows()\n",
    "\n",
    "    # Filtered Image using boxFilter\n",
    "    output_box = cv2.boxFilter(img, -1, (5, 5))\n",
    "    cv2.imshow('Filtered Image - boxFilter', output_box)\n",
    "    cv2.waitKey(0)\n",
    "    cv2.destroyAllWindows()\n",
    "\n",
    "    # Filtered Image using GaussianBlur\n",
    "    output_gaus = cv2.GaussianBlur(img, (5, 5), 0)\n",
    "    cv2.imshow('Filtered Image - GaussianBlur', output_gaus)\n",
    "    cv2.waitKey(0)\n",
    "    cv2.destroyAllWindows()\n",
    "\n",
    "    # Filtered Image using medianBlur\n",
    "    output_med = cv2.medianBlur(img, 5)\n",
    "    cv2.imshow('Filtered Image - medianBlur', output_med)\n",
    "    cv2.waitKey(0)\n",
    "    cv2.destroyAllWindows()\n",
    "\n",
    "    # Filtered Image using bilateralFilter\n",
    "    output_bil = cv2.bilateralFilter(img, d=5, sigmaColor=6, sigmaSpace=6)\n",
    "    cv2.imshow('Filtered Image - bilateralFilter', output_bil)\n",
    "    cv2.waitKey(0)\n",
    "    cv2.destroyAllWindows()\n",
    "\n",
    "else:\n",
    "    print(f\"Failed to load image from {image_path}\")\n"
   ]
  },
  {
   "cell_type": "code",
   "execution_count": null,
   "id": "97466bc9-19b8-4f2c-8a44-0f52a22e8c18",
   "metadata": {},
   "outputs": [],
   "source": []
  },
  {
   "cell_type": "code",
   "execution_count": null,
   "id": "1f11959d-4eea-403a-b316-be42437a3e90",
   "metadata": {},
   "outputs": [],
   "source": []
  }
 ],
 "metadata": {
  "kernelspec": {
   "display_name": "Python 3 (ipykernel)",
   "language": "python",
   "name": "python3"
  },
  "language_info": {
   "codemirror_mode": {
    "name": "ipython",
    "version": 3
   },
   "file_extension": ".py",
   "mimetype": "text/x-python",
   "name": "python",
   "nbconvert_exporter": "python",
   "pygments_lexer": "ipython3",
   "version": "3.11.7"
  }
 },
 "nbformat": 4,
 "nbformat_minor": 5
}
