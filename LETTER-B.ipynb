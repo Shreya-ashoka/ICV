{
 "cells": [
  {
   "cell_type": "code",
   "execution_count": 1,
   "id": "05f9fc3f-99fe-4ed8-b3e7-abd186fb3bda",
   "metadata": {},
   "outputs": [],
   "source": [
    "import cv2\n",
    "import numpy as np"
   ]
  },
  {
   "cell_type": "code",
   "execution_count": 2,
   "id": "7f77b530-4dac-4e27-bdd9-3dcfcd453efc",
   "metadata": {},
   "outputs": [],
   "source": [
    "img_arr= np.arange(0,90000,1,np.uint8)\n",
    "img = np.reshape(img_arr,(300,300))\n",
    "height,width = img.shape"
   ]
  },
  {
   "cell_type": "code",
   "execution_count": 3,
   "id": "1846bce3-6f2b-46ce-81bc-89fc94d424bd",
   "metadata": {},
   "outputs": [],
   "source": [
    "img[:,:] = 0\n",
    "img[50:250,50:100]=255"
   ]
  },
  {
   "cell_type": "code",
   "execution_count": 4,
   "id": "cbe5c575-6687-4f7a-96a3-cba068d30fb7",
   "metadata": {},
   "outputs": [],
   "source": [
    "img[50:90,100:160]=255\n",
    "img[210:250,100:160]=255\n",
    "img[130:170,100:160]=255"
   ]
  },
  {
   "cell_type": "code",
   "execution_count": 5,
   "id": "7e7bcc44-e544-4856-9696-0b2228e76d12",
   "metadata": {},
   "outputs": [],
   "source": [
    "img[70:140, 160:210] = 255\n",
    "img[160:230, 160:210] = 255\n"
   ]
  },
  {
   "cell_type": "code",
   "execution_count": null,
   "id": "bcbfdc62-9f55-4acd-8db0-6954f8e00a5a",
   "metadata": {},
   "outputs": [],
   "source": [
    "# Displaying the image\n",
    "cv2.imshow('Letter B', img)\n",
    "cv2.waitKey(0)\n",
    "cv2.destroyAllWindows()"
   ]
  },
  {
   "cell_type": "code",
   "execution_count": null,
   "id": "5c9b42d1-905b-4789-8a58-3385652c34f9",
   "metadata": {},
   "outputs": [],
   "source": []
  },
  {
   "cell_type": "code",
   "execution_count": null,
   "id": "8cfb395e-f79f-4778-ab77-66f5fec54eff",
   "metadata": {},
   "outputs": [],
   "source": []
  }
 ],
 "metadata": {
  "kernelspec": {
   "display_name": "Python 3 (ipykernel)",
   "language": "python",
   "name": "python3"
  },
  "language_info": {
   "codemirror_mode": {
    "name": "ipython",
    "version": 3
   },
   "file_extension": ".py",
   "mimetype": "text/x-python",
   "name": "python",
   "nbconvert_exporter": "python",
   "pygments_lexer": "ipython3",
   "version": "3.11.7"
  }
 },
 "nbformat": 4,
 "nbformat_minor": 5
}
