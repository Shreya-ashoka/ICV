{
 "cells": [
  {
   "cell_type": "code",
   "execution_count": 8,
   "id": "76a59bb0-1d70-4371-b7c8-e94ed37cf30f",
   "metadata": {},
   "outputs": [
    {
     "name": "stdout",
     "output_type": "stream",
     "text": [
      "The files listed in the folder are: \n",
      "\n",
      " ['t2.png', 'teddy.png', 'teddy1.jpg'] \n",
      "\n",
      "Number of images read: \t 3 \n",
      "\n",
      "Shape of the image data array: (3, 480, 640, 3)\n"
     ]
    }
   ],
   "source": [
    "import os\n",
    "import cv2\n",
    "import numpy as np\n",
    "folder_path = 'images/'\n",
    "# Initialize an empty list to store the image data\n",
    "image_data_list = []\n",
    "# List all files in the folder\n",
    "file_list = os.listdir(folder_path)\n",
    "print (\"The files listed in the folder are: \\n\\n\", file_list, \"\\n\")\n",
    "# Loop through each file in the folder\n",
    "for filename in file_list:\n",
    " if filename.endswith(('.jpg', '.jpeg', '.png', '.bmp', '.gif')):\n",
    " # Construct the full path to the image file\n",
    "  image_path = os.path.join(folder_path, filename)\n",
    "  image = cv2.imread(image_path)\n",
    " if image is not None:\n",
    "   image_resized = cv2.resize(image, (640, 480)) \n",
    "\n",
    "   image_data_list.append(image_resized)\n",
    "print(\"Number of images read: \\t\", len(image_data_list), \"\\n\")\n",
    "# Converting the list data into image data\n",
    "image_data_array = np.array(image_data_list)\n",
    "print(\"Shape of the image data array:\", image_data_array.shape)\n"
   ]
  },
  {
   "cell_type": "code",
   "execution_count": 9,
   "id": "ab39b964-fac9-48e6-9122-3dde07c210b7",
   "metadata": {},
   "outputs": [
    {
     "name": "stdout",
     "output_type": "stream",
     "text": [
      "Showing image: 1\n",
      "Showing image: 2\n",
      "Showing image: 3\n"
     ]
    }
   ],
   "source": [
    "for i in range(image_data_array.shape[0]):\n",
    "    image_to_plot = image_data_array[i]\n",
    "    print(\"Showing image:\", (i+1))\n",
    "\n",
    "    \n",
    "    cv2.imshow(f\"Image {i+1}\", image_to_plot)\n",
    "    \n",
    "    \n",
    "    key = cv2.waitKey(0)  \n",
    "    if key == 27:  \n",
    "        break  \n",
    "    \n",
    "    cv2.destroyAllWindows()  "
   ]
  },
  {
   "cell_type": "code",
   "execution_count": null,
   "id": "ad9d5d02-73a7-45f3-9658-5e1464c6fe34",
   "metadata": {},
   "outputs": [],
   "source": []
  }
 ],
 "metadata": {
  "kernelspec": {
   "display_name": "Python 3 (ipykernel)",
   "language": "python",
   "name": "python3"
  },
  "language_info": {
   "codemirror_mode": {
    "name": "ipython",
    "version": 3
   },
   "file_extension": ".py",
   "mimetype": "text/x-python",
   "name": "python",
   "nbconvert_exporter": "python",
   "pygments_lexer": "ipython3",
   "version": "3.11.7"
  }
 },
 "nbformat": 4,
 "nbformat_minor": 5
}
