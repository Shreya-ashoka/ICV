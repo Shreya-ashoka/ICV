{
 "cells": [
  {
   "cell_type": "code",
   "execution_count": 1,
   "id": "317b5ef1-eec4-4502-8795-3b2604954de7",
   "metadata": {},
   "outputs": [
    {
     "name": "stdout",
     "output_type": "stream",
     "text": [
      "Defaulting to user installation because normal site-packages is not writeable\n",
      "Requirement already satisfied: opencv-python in c:\\users\\student\\appdata\\roaming\\python\\python311\\site-packages (4.10.0.82)\n",
      "Requirement already satisfied: numpy>=1.21.2 in c:\\programdata\\anaconda3\\lib\\site-packages (from opencv-python) (1.26.4)\n",
      "Note: you may need to restart the kernel to use updated packages.\n"
     ]
    }
   ],
   "source": [
    "pip install opencv-python\n"
   ]
  },
  {
   "cell_type": "code",
   "execution_count": 2,
   "id": "32b5874f-436f-4187-b901-9553702c8e1a",
   "metadata": {},
   "outputs": [],
   "source": [
    "import numpy as np\n",
    "import cv2"
   ]
  },
  {
   "cell_type": "code",
   "execution_count": 3,
   "id": "4611cd60-7e5b-41a3-8a21-93ee51d3378f",
   "metadata": {},
   "outputs": [],
   "source": [
    "board_size=8\n",
    "square_size=50\n",
    "board=np.zeros((board_size,board_size,3),dtype=np.uint8)"
   ]
  },
  {
   "cell_type": "code",
   "execution_count": 4,
   "id": "324cd795-fdbd-4ae4-b133-a594422e00b8",
   "metadata": {},
   "outputs": [],
   "source": [
    "for i in range(board_size):\n",
    "    for j in range (board_size):\n",
    "        if(i+j)%2==0:\n",
    "            board[i,j]=[255,255,255]\n",
    "        else:\n",
    "            board[i,j]=[0,0,0]"
   ]
  },
  {
   "cell_type": "code",
   "execution_count": 5,
   "id": "07eaf683-a2d6-4530-b6fb-adfc860dfef7",
   "metadata": {},
   "outputs": [],
   "source": [
    "board_large=cv2.resize(board,(board_size*square_size,board_size*square_size),interpolation=cv2.INTER_NEAREST)\n"
   ]
  },
  {
   "cell_type": "code",
   "execution_count": 8,
   "id": "4ed97c1c-28cb-40ea-9221-f846753de17a",
   "metadata": {},
   "outputs": [],
   "source": [
    "cv2.imshow(\"Chessboard\",board_large)"
   ]
  },
  {
   "cell_type": "code",
   "execution_count": null,
   "id": "4bdd0db1-c686-43ac-8036-7aedf03342bd",
   "metadata": {},
   "outputs": [],
   "source": [
    "cv2.waitKey(0)\n",
    "cv2.destroyAllWindows\n"
   ]
  }
 ],
 "metadata": {
  "kernelspec": {
   "display_name": "Python 3 (ipykernel)",
   "language": "python",
   "name": "python3"
  },
  "language_info": {
   "codemirror_mode": {
    "name": "ipython",
    "version": 3
   },
   "file_extension": ".py",
   "mimetype": "text/x-python",
   "name": "python",
   "nbconvert_exporter": "python",
   "pygments_lexer": "ipython3",
   "version": "3.11.7"
  }
 },
 "nbformat": 4,
 "nbformat_minor": 5
}
